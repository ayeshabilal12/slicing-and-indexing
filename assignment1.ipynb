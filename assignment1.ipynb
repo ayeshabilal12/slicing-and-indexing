{
 "cells": [
  {
   "cell_type": "markdown",
   "id": "a5f8a637-12d6-438e-b822-802d83d816b3",
   "metadata": {},
   "source": [
    "## Assignment: 01"
   ]
  },
  {
   "cell_type": "code",
   "execution_count": 1,
   "id": "dbef4671-97ea-4aca-80b2-54f8469136ca",
   "metadata": {},
   "outputs": [],
   "source": [
    "salaries = ['20k', '40k', '50k', '60k', '35k', '89k','40k']"
   ]
  },
  {
   "cell_type": "code",
   "execution_count": 2,
   "id": "107fa6b2-734c-4bfa-b2a4-40be626624db",
   "metadata": {},
   "outputs": [
    {
     "data": {
      "text/plain": [
       "['20k', '40k', '50k', '60k', '35k', '89k', '40k']"
      ]
     },
     "execution_count": 2,
     "metadata": {},
     "output_type": "execute_result"
    }
   ],
   "source": [
    "salaries"
   ]
  },
  {
   "cell_type": "markdown",
   "id": "bbdc0a37-b59d-46eb-96bd-dd7de4445258",
   "metadata": {},
   "source": [
    "#### 1. What is the length of the salaries list."
   ]
  },
  {
   "cell_type": "code",
   "execution_count": 4,
   "id": "b414e4f5-552a-4e2b-9534-539ac72ec4fa",
   "metadata": {},
   "outputs": [
    {
     "data": {
      "text/plain": [
       "7"
      ]
     },
     "execution_count": 4,
     "metadata": {},
     "output_type": "execute_result"
    }
   ],
   "source": [
    "len(salaries)"
   ]
  },
  {
   "cell_type": "markdown",
   "id": "6b55a754-5736-4e36-ba63-39a04fc5471d",
   "metadata": {},
   "source": [
    "#### 2. Retrieve the third salary in the list by using index."
   ]
  },
  {
   "cell_type": "code",
   "execution_count": 5,
   "id": "79204b34-8282-41c7-af0f-abfcc48a2372",
   "metadata": {},
   "outputs": [
    {
     "data": {
      "text/plain": [
       "'50k'"
      ]
     },
     "execution_count": 5,
     "metadata": {},
     "output_type": "execute_result"
    }
   ],
   "source": [
    "salaries[2]"
   ]
  },
  {
   "cell_type": "markdown",
   "id": "d018b8dc-d9ff-4783-9588-4a105bd050e0",
   "metadata": {},
   "source": [
    "#### 3. Extract the last salary from the list by using a negative index."
   ]
  },
  {
   "cell_type": "code",
   "execution_count": 6,
   "id": "9e5c25ce-898c-4da7-8ce8-8e52508e2b7d",
   "metadata": {},
   "outputs": [
    {
     "data": {
      "text/plain": [
       "'40k'"
      ]
     },
     "execution_count": 6,
     "metadata": {},
     "output_type": "execute_result"
    }
   ],
   "source": [
    "salaries [-1]"
   ]
  },
  {
   "cell_type": "markdown",
   "id": "cc91a3c4-0dca-4068-a1e6-929ba957ec3c",
   "metadata": {},
   "source": [
    "#### 4. Slice the salaries list to get only the middle three salaries."
   ]
  },
  {
   "cell_type": "code",
   "execution_count": 7,
   "id": "7c1c94ac-36b5-40af-ae99-be9d0b539af3",
   "metadata": {},
   "outputs": [
    {
     "data": {
      "text/plain": [
       "['50k', '60k', '35k']"
      ]
     },
     "execution_count": 7,
     "metadata": {},
     "output_type": "execute_result"
    }
   ],
   "source": [
    "salaries [2:5]"
   ]
  },
  {
   "cell_type": "markdown",
   "id": "8a8795bb-69ef-43cd-8aa9-1e5c806a5685",
   "metadata": {},
   "source": [
    "#### 5. Add a new salary to the list, ‘100k’ by using append() method."
   ]
  },
  {
   "cell_type": "code",
   "execution_count": 8,
   "id": "3da47a01-b6e0-4b72-8039-ece5a54a97b7",
   "metadata": {},
   "outputs": [],
   "source": [
    "salaries.append('100k')"
   ]
  },
  {
   "cell_type": "code",
   "execution_count": 9,
   "id": "7b426057-67b6-45bf-9af9-2da8515ec095",
   "metadata": {},
   "outputs": [
    {
     "data": {
      "text/plain": [
       "['20k', '40k', '50k', '60k', '35k', '89k', '40k', '100k']"
      ]
     },
     "execution_count": 9,
     "metadata": {},
     "output_type": "execute_result"
    }
   ],
   "source": [
    "salaries"
   ]
  },
  {
   "cell_type": "markdown",
   "id": "b3424754-a04a-4100-bbb2-80db5655868f",
   "metadata": {},
   "source": [
    "#### 5. Add a new salary to the list, ‘120k’ without method."
   ]
  },
  {
   "cell_type": "code",
   "execution_count": 11,
   "id": "3677ea10-8442-40c6-8d8d-9d3d9ee81cd1",
   "metadata": {},
   "outputs": [],
   "source": [
    "salaries = salaries + ['120k']"
   ]
  },
  {
   "cell_type": "code",
   "execution_count": 12,
   "id": "06c83bf6-e298-491b-a7e3-c264bf973acd",
   "metadata": {},
   "outputs": [
    {
     "data": {
      "text/plain": [
       "['20k', '40k', '50k', '60k', '35k', '89k', '40k', '100k', '120k']"
      ]
     },
     "execution_count": 12,
     "metadata": {},
     "output_type": "execute_result"
    }
   ],
   "source": [
    "salaries"
   ]
  },
  {
   "cell_type": "markdown",
   "id": "c937ce26-0d1f-4c11-a3ef-e549245c454a",
   "metadata": {},
   "source": [
    "#### 6. Replace the third salary in the list with '55k' and print the updated list."
   ]
  },
  {
   "cell_type": "code",
   "execution_count": 13,
   "id": "cf7e68c3-7019-42d4-9059-af53ddfb1cf9",
   "metadata": {},
   "outputs": [],
   "source": [
    "salaries[2] = '55k'"
   ]
  },
  {
   "cell_type": "code",
   "execution_count": 14,
   "id": "eed154bb-0b2d-4ba1-8cad-6ddd6dc520c8",
   "metadata": {},
   "outputs": [
    {
     "data": {
      "text/plain": [
       "['20k', '40k', '55k', '60k', '35k', '89k', '40k', '100k', '120k']"
      ]
     },
     "execution_count": 14,
     "metadata": {},
     "output_type": "execute_result"
    }
   ],
   "source": [
    "salaries"
   ]
  },
  {
   "cell_type": "markdown",
   "id": "42b122b1-cc21-41d7-ab0e-348df93c26bd",
   "metadata": {},
   "source": [
    "#### 7. Count how many times '40k' appears in the list."
   ]
  },
  {
   "cell_type": "code",
   "execution_count": 15,
   "id": "00b3d14b-1248-4eee-b8c8-d9701b712ead",
   "metadata": {},
   "outputs": [
    {
     "data": {
      "text/plain": [
       "2"
      ]
     },
     "execution_count": 15,
     "metadata": {},
     "output_type": "execute_result"
    }
   ],
   "source": [
    "salaries.count ('40k')"
   ]
  },
  {
   "cell_type": "markdown",
   "id": "ff77449e-c0c2-4574-8af4-485031fe7fa7",
   "metadata": {},
   "source": [
    "#### 8. Insert a new salary at the second position."
   ]
  },
  {
   "cell_type": "code",
   "execution_count": 16,
   "id": "104925b0-8b01-453c-8419-a1f734c48053",
   "metadata": {},
   "outputs": [],
   "source": [
    "salaries.insert (1, '32k')"
   ]
  },
  {
   "cell_type": "code",
   "execution_count": 17,
   "id": "fd27b3d8-1710-4307-abd3-feeaed027235",
   "metadata": {},
   "outputs": [
    {
     "data": {
      "text/plain": [
       "['20k', '32k', '40k', '55k', '60k', '35k', '89k', '40k', '100k', '120k']"
      ]
     },
     "execution_count": 17,
     "metadata": {},
     "output_type": "execute_result"
    }
   ],
   "source": [
    "salaries"
   ]
  },
  {
   "cell_type": "markdown",
   "id": "89516b56-040a-4d93-b358-cbb97c12be1b",
   "metadata": {},
   "source": [
    "#### 9. Reverse the order of the salaries list with method."
   ]
  },
  {
   "cell_type": "code",
   "execution_count": 19,
   "id": "34f6d58d-6989-44aa-93f2-eb080d9678dc",
   "metadata": {},
   "outputs": [],
   "source": [
    "salaries.reverse()"
   ]
  },
  {
   "cell_type": "code",
   "execution_count": 20,
   "id": "b1a2dcb5-51c7-482c-9fae-950fa147ce20",
   "metadata": {},
   "outputs": [
    {
     "data": {
      "text/plain": [
       "['120k', '100k', '40k', '89k', '35k', '60k', '55k', '40k', '32k', '20k']"
      ]
     },
     "execution_count": 20,
     "metadata": {},
     "output_type": "execute_result"
    }
   ],
   "source": [
    "salaries"
   ]
  },
  {
   "cell_type": "markdown",
   "id": "4f3dee4f-ab37-4d84-ab32-a71c7e034c0a",
   "metadata": {},
   "source": [
    "#### 10. Reverse the order of the salaries list without method."
   ]
  },
  {
   "cell_type": "code",
   "execution_count": 22,
   "id": "8f586ce5-6bfa-4ead-9ba2-d9b13fb98f97",
   "metadata": {},
   "outputs": [
    {
     "data": {
      "text/plain": [
       "['120k', '100k', '40k', '89k', '35k', '60k', '55k', '40k', '32k', '20k']"
      ]
     },
     "execution_count": 22,
     "metadata": {},
     "output_type": "execute_result"
    }
   ],
   "source": [
    "salaries"
   ]
  },
  {
   "cell_type": "code",
   "execution_count": 23,
   "id": "d6289397-413d-4090-860d-7bd9bddf1084",
   "metadata": {},
   "outputs": [
    {
     "data": {
      "text/plain": [
       "['20k', '32k', '40k', '55k', '60k', '35k', '89k', '40k', '100k', '120k']"
      ]
     },
     "execution_count": 23,
     "metadata": {},
     "output_type": "execute_result"
    }
   ],
   "source": [
    "salaries [::-1]"
   ]
  },
  {
   "cell_type": "code",
   "execution_count": null,
   "id": "6b697676-273a-45d8-97c9-b7e8b700ebb7",
   "metadata": {},
   "outputs": [],
   "source": []
  }
 ],
 "metadata": {
  "kernelspec": {
   "display_name": "Python 3 (ipykernel)",
   "language": "python",
   "name": "python3"
  },
  "language_info": {
   "codemirror_mode": {
    "name": "ipython",
    "version": 3
   },
   "file_extension": ".py",
   "mimetype": "text/x-python",
   "name": "python",
   "nbconvert_exporter": "python",
   "pygments_lexer": "ipython3",
   "version": "3.12.7"
  }
 },
 "nbformat": 4,
 "nbformat_minor": 5
}
